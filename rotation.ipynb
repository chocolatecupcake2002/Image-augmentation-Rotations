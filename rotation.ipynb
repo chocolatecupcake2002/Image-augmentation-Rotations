{
 "cells": [
  {
   "cell_type": "code",
   "execution_count": 64,
   "id": "5d6225b0",
   "metadata": {},
   "outputs": [],
   "source": [
    "import cv2\n",
    "import numpy as np\n",
    "import glob\n",
    "import matplotlib.pyplot as plt\n",
    "from PIL import Image, ImageEnhance"
   ]
  },
  {
   "cell_type": "code",
   "execution_count": 65,
   "id": "dcfd3db9",
   "metadata": {},
   "outputs": [],
   "source": [
    "Extension=\".jpg\""
   ]
  },
  {
   "cell_type": "code",
   "execution_count": null,
   "id": "58a820a0",
   "metadata": {},
   "outputs": [],
   "source": []
  },
  {
   "cell_type": "code",
   "execution_count": 66,
   "id": "eed4d281",
   "metadata": {},
   "outputs": [],
   "source": [
    "def rotation_aug(foldername):\n",
    "    array_of_images = glob.glob(foldername + \"/*.jpg\") \n",
    "    for image in array_of_images:\n",
    "        img = cv2.imread(image)\n",
    "        img_name = image.split(foldername+\"\\\\\")[1].split(\".jpg\")[0]\n",
    "        deg=-3\n",
    "        rotate_image(img,deg,img_name)\n",
    "            \n",
    "def rotate_image(image,deg,img_name):\n",
    "    rows, cols,c = image.shape\n",
    "    M = cv2.getRotationMatrix2D((cols/2,rows/2), deg, 1)\n",
    "    image = cv2.warpAffine(image, M, (cols, rows))\n",
    "    cv2.imwrite(destname + \"/\"+img_name+\"-\" + str(deg) + \".jpg\", image)  \n"
   ]
  },
  {
   "cell_type": "code",
   "execution_count": 67,
   "id": "336353ff",
   "metadata": {},
   "outputs": [],
   "source": [
    "\n",
    "destname = \"/Users/aishu/KNEEDATA4/ANTHEM/anthemAPaugmentation/anthemapzoominneg3deg\"\n",
    "\n",
    "foldername=\"/Users/aishu/KNEEDATA4/ANTHEM/anthemAPaugmentation/anthemapzoomincontdw\"\n",
    "rotation_aug(foldername)"
   ]
  },
  {
   "cell_type": "code",
   "execution_count": null,
   "id": "00dcac6d",
   "metadata": {},
   "outputs": [],
   "source": []
  },
  {
   "cell_type": "code",
   "execution_count": null,
   "id": "351f90ed",
   "metadata": {},
   "outputs": [],
   "source": []
  },
  {
   "cell_type": "code",
   "execution_count": null,
   "id": "e9f2201b",
   "metadata": {},
   "outputs": [],
   "source": []
  }
 ],
 "metadata": {
  "kernelspec": {
   "display_name": "Python 3 (ipykernel)",
   "language": "python",
   "name": "python3"
  },
  "language_info": {
   "codemirror_mode": {
    "name": "ipython",
    "version": 3
   },
   "file_extension": ".py",
   "mimetype": "text/x-python",
   "name": "python",
   "nbconvert_exporter": "python",
   "pygments_lexer": "ipython3",
   "version": "3.9.13"
  }
 },
 "nbformat": 4,
 "nbformat_minor": 5
}
