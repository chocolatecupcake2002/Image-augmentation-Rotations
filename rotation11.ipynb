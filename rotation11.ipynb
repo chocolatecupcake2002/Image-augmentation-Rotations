{
 "cells": [
  {
   "cell_type": "code",
   "execution_count": 324,
   "id": "16de6a6f",
   "metadata": {},
   "outputs": [],
   "source": [
    "import cv2\n",
    "import numpy as np\n",
    "import glob\n",
    "import matplotlib.pyplot as plt\n",
    "from PIL import Image, ImageEnhance"
   ]
  },
  {
   "cell_type": "code",
   "execution_count": 325,
   "id": "ce9eb664",
   "metadata": {},
   "outputs": [],
   "source": [
    "Extension=\".jpg\""
   ]
  },
  {
   "cell_type": "code",
   "execution_count": 326,
   "id": "e20f8866",
   "metadata": {},
   "outputs": [],
   "source": [
    "def rotation_aug(foldername):\n",
    "    array_of_images = glob.glob(foldername + \"/*.jpg\") \n",
    "    for image in array_of_images:\n",
    "        img = cv2.imread(image)\n",
    "        img_name = image.split(foldername+\"\\\\\")[1].split(\".jpg\")[0]\n",
    "        for deg in [-3,3,5]:\n",
    "            rotate_image(img,deg,img_name)\n",
    "            \n",
    "def rotate_image(image,deg,img_name):\n",
    "    rows, cols,c = image.shape\n",
    "    M = cv2.getRotationMatrix2D((cols/2,rows/2), deg, 1)\n",
    "    image = cv2.warpAffine(image, M, (cols, rows))\n",
    "    cv2.imwrite(foldername1 + \"/\"+img_name+\"-\" + str(deg) + \".jpg\", image)            \n"
   ]
  },
  {
   "cell_type": "code",
   "execution_count": 327,
   "id": "5b1f3426",
   "metadata": {},
   "outputs": [],
   "source": [
    "foldername = \"/Users/aishu/KNEEDATA4/VANGUARD/vanguardLATaugmentation/vangugardLatcontrastup\"\n",
    "foldername1= \"/Users/aishu/KNEEDATA4/VANGUARD/vanguardLATaugmentation/VanguardLATRotation\"\n",
    "rotation_aug(foldername)"
   ]
  },
  {
   "cell_type": "code",
   "execution_count": null,
   "id": "ad27abb2",
   "metadata": {},
   "outputs": [],
   "source": []
  },
  {
   "cell_type": "code",
   "execution_count": null,
   "id": "6e51b495",
   "metadata": {},
   "outputs": [],
   "source": []
  },
  {
   "cell_type": "code",
   "execution_count": null,
   "id": "f93336ab",
   "metadata": {},
   "outputs": [],
   "source": []
  }
 ],
 "metadata": {
  "kernelspec": {
   "display_name": "Python 3 (ipykernel)",
   "language": "python",
   "name": "python3"
  },
  "language_info": {
   "codemirror_mode": {
    "name": "ipython",
    "version": 3
   },
   "file_extension": ".py",
   "mimetype": "text/x-python",
   "name": "python",
   "nbconvert_exporter": "python",
   "pygments_lexer": "ipython3",
   "version": "3.9.13"
  }
 },
 "nbformat": 4,
 "nbformat_minor": 5
}
